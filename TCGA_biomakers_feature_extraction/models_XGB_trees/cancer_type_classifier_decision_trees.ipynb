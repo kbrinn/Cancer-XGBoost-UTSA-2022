{
 "cells": [
  {
   "cell_type": "code",
   "execution_count": 5,
   "outputs": [],
   "source": [
    "import pandas as pd\n",
    "import numpy as np\n",
    "from matplotlib import pyplot\n",
    "from sklearn.tree import DecisionTreeClassifier # Import Decision Tree Classifier\n",
    "from sklearn.model_selection import train_test_split # Import train_test_split function\n",
    "from sklearn import metrics #Import scikit-learn metrics module for accuracy calculatio\n",
    "from sklearn.model_selection import KFold\n",
    "from sklearn.model_selection import cross_val_score\n",
    "from sklearn.tree import export_graphviz\n",
    "from sklearn import preprocessing\n",
    "from sklearn import tree\n",
    "from dtreeviz.trees import *\n",
    "from dtreeviz import trees\n",
    "import graphviz\n",
    "import dtreeviz"
   ],
   "metadata": {
    "collapsed": false,
    "pycharm": {
     "name": "#%%\n"
    }
   }
  },
  {
   "cell_type": "code",
   "execution_count": 6,
   "outputs": [],
   "source": [
    "import warnings\n",
    "warnings.filterwarnings('ignore')"
   ],
   "metadata": {
    "collapsed": false,
    "pycharm": {
     "name": "#%%\n"
    }
   }
  },
  {
   "cell_type": "code",
   "execution_count": 3,
   "outputs": [],
   "source": [
    "TCGA = pd.read_csv('D:/TCGA_XGBoost/venv/TCGA_data/TCGA-Merge.csv')"
   ],
   "metadata": {
    "collapsed": false,
    "pycharm": {
     "name": "#%%\n"
    }
   }
  },
  {
   "cell_type": "code",
   "execution_count": null,
   "outputs": [],
   "source": [
    "TCGA.rename({'days_to_death': 'years_to_death', 'days_to_birth': 'years_to_birth'}, axis=1, inplace=True)\n",
    "\n",
    "TCGA['years_to_death'] = TCGA['years_to_death'].mul(0.002738)\n",
    "TCGA['years_to_birth'] = TCGA['years_to_birth'].mul(-0.002738)\n",
    "\n",
    "TCGA = TCGA.drop_duplicates(subset=['bcr_patient_barcode'])"
   ],
   "metadata": {
    "collapsed": false,
    "pycharm": {
     "name": "#%%\n"
    }
   }
  },
  {
   "cell_type": "code",
   "execution_count": null,
   "outputs": [],
   "source": [
    "OHE_race = pd.get_dummies(TCGA['race_list'])\n",
    "OHE_eth = pd.get_dummies(TCGA['ethnicity'])\n",
    "OHE_neo = pd.get_dummies(TCGA['history_of_neoadjuvant_treatment'])\n",
    "OHE_dx = pd.get_dummies(TCGA['other_dx'])\n",
    "\n",
    "TCGA_data_OHE = pd.merge(left=OHE_race,right=TCGA,left_index=True,right_index=True)\n",
    "TCGA_data_ETH = pd.merge(left=OHE_eth,right=TCGA_data_OHE,left_index=True,right_index=True)\n",
    "TCGA_data_NEO = pd.merge(left=OHE_neo,right=TCGA_data_ETH,left_index=True,right_index=True)\n",
    "TCGA_data_DX = pd.merge(left=OHE_dx,right=TCGA_data_NEO,left_index=True,right_index=True)"
   ],
   "metadata": {
    "collapsed": false,
    "pycharm": {
     "name": "#%%\n"
    }
   }
  },
  {
   "cell_type": "code",
   "execution_count": null,
   "outputs": [],
   "source": [
    "TCGA_data_DX.rename(columns={'No_x': 'no history of malignancy', 'Yes_x': 'yes history of malignancy',\n",
    "                             'Yes, History of Prior Malignancy': 'history of prior malignancy',\n",
    "                             'Yes, History of Synchronous/Bilateral Malignancy':'synchrnous/bilateral malignancy',\n",
    "                             'No_y': 'no radiation','Yes_y' : 'yes radiation',\n",
    "                             'Yes, Radiation Prior to Resection':'radiation prior to resection',\n",
    "                             'Yes, Pharmaceutical Treatment Prior to Resection': 'pharmaceutical treatment prior resection'},\n",
    "                    inplace=True)\n",
    "\n",
    "TCGA_data_A_encoded = TCGA_data_DX.drop(['race_list','other_dx','ethnicity','history_of_neoadjuvant_treatment'],axis=1)"
   ],
   "metadata": {
    "collapsed": false,
    "pycharm": {
     "name": "#%%\n"
    }
   }
  },
  {
   "cell_type": "code",
   "execution_count": null,
   "outputs": [],
   "source": [
    "TCGA_data_A_encoded['gender'] = TCGA_data_A_encoded['gender'].map({'MALE': 0,'FEMALE': 1})\n",
    "TCGA_data_A_encoded['has_radiations_information'] = TCGA_data_A_encoded['has_radiations_information'].map({'NO': 0,'YES': 1})\n",
    "TCGA_data_A_encoded['vital_status'] = TCGA_data_A_encoded['vital_status'].map({'Alive': 0,'Dead': 1})\n",
    "TCGA_data_A_encoded['has_drugs_information'] = TCGA_data_A_encoded['has_drugs_information'].map({'NO': 0,'YES': 1})"
   ],
   "metadata": {
    "collapsed": false,
    "pycharm": {
     "name": "#%%\n"
    }
   }
  },
  {
   "cell_type": "code",
   "execution_count": null,
   "outputs": [],
   "source": [
    "TCGA_data_A_encoded = TCGA_ready.drop(['race_list','other_dx','ethnicity','history_of_neoadjuvant_treatment'],axis=1)"
   ],
   "metadata": {
    "collapsed": false,
    "pycharm": {
     "name": "#%%\n"
    }
   }
  },
  {
   "cell_type": "code",
   "execution_count": null,
   "outputs": [],
   "source": [
    "TCGA_data_A_encoded.to_csv('D:/TCGA_XGBoost/venv/TCGA_data/TCGA_encoded.csv',index = False, encoding='utf-8')"
   ],
   "metadata": {
    "collapsed": false,
    "pycharm": {
     "name": "#%%\n"
    }
   }
  },
  {
   "cell_type": "code",
   "execution_count": null,
   "outputs": [],
   "source": [
    "TCGA_data_A_encoded = pd.read_csv('D:/TCGA_XGBoost/venv/TCGA_data/TCGA_encoded.csv')"
   ],
   "metadata": {
    "collapsed": false,
    "pycharm": {
     "name": "#%%\n"
    }
   }
  },
  {
   "cell_type": "code",
   "execution_count": null,
   "outputs": [],
   "source": [
    "TCGA_ready = TCGA_data_A_encoded.sample(frac=1).reset_index(drop=True)"
   ],
   "metadata": {
    "collapsed": false,
    "pycharm": {
     "name": "#%%\n"
    }
   }
  },
  {
   "cell_type": "code",
   "execution_count": null,
   "outputs": [],
   "source": [
    "TCGA_ready = TCGA_ready.drop(['bcr_patient_barcode'],axis=1)"
   ],
   "metadata": {
    "collapsed": false,
    "pycharm": {
     "name": "#%%\n"
    }
   }
  },
  {
   "cell_type": "code",
   "execution_count": null,
   "outputs": [],
   "source": [
    "TCGA_ready = TCGA_ready.drop(['days_to_death','days_to_birth'],axis=1)"
   ],
   "metadata": {
    "collapsed": false,
    "pycharm": {
     "name": "#%%\n"
    }
   }
  },
  {
   "cell_type": "code",
   "execution_count": null,
   "outputs": [],
   "source": [
    "TCGA_ready = TCGA_ready.drop(['race_list','other_dx','ethnicity','history_of_neoadjuvant_treatment'],axis=1)"
   ],
   "metadata": {
    "collapsed": false,
    "pycharm": {
     "name": "#%%\n"
    }
   }
  },
  {
   "cell_type": "code",
   "execution_count": null,
   "outputs": [],
   "source": [
    "TCGA_ready['gender'] = TCGA_ready['gender'].map({'MALE': 0,'FEMALE': 1})\n",
    "TCGA_ready['has_radiations_information'] = TCGA_ready['has_radiations_information'].map({'NO': 0,'YES': 1})\n",
    "TCGA_ready['vital_status'] = TCGA_ready['vital_status'].map({'Alive': 0,'Dead': 1})\n",
    "TCGA_ready['has_drugs_information'] = TCGA_ready['has_drugs_information'].map({'NO': 0,'YES': 1})"
   ],
   "metadata": {
    "collapsed": false,
    "pycharm": {
     "name": "#%%\n"
    }
   }
  },
  {
   "cell_type": "code",
   "execution_count": 4,
   "outputs": [
    {
     "ename": "NameError",
     "evalue": "name 'TCGA_ready' is not defined",
     "output_type": "error",
     "traceback": [
      "\u001B[1;31m---------------------------------------------------------------------------\u001B[0m",
      "\u001B[1;31mNameError\u001B[0m                                 Traceback (most recent call last)",
      "\u001B[1;32m~\\AppData\\Local\\Temp\\ipykernel_18624\\1698269824.py\u001B[0m in \u001B[0;36m<module>\u001B[1;34m\u001B[0m\n\u001B[1;32m----> 1\u001B[1;33m \u001B[0mTCGA_ready\u001B[0m\u001B[1;33m.\u001B[0m\u001B[0mto_csv\u001B[0m\u001B[1;33m(\u001B[0m\u001B[1;34m'D:/TCGA_XGBoost/venv/TCGA_data/TCGA_ready.csv'\u001B[0m\u001B[1;33m,\u001B[0m\u001B[0mindex\u001B[0m \u001B[1;33m=\u001B[0m \u001B[1;32mFalse\u001B[0m\u001B[1;33m,\u001B[0m \u001B[0mencoding\u001B[0m\u001B[1;33m=\u001B[0m\u001B[1;34m'utf-8'\u001B[0m\u001B[1;33m)\u001B[0m\u001B[1;33m\u001B[0m\u001B[1;33m\u001B[0m\u001B[0m\n\u001B[0m",
      "\u001B[1;31mNameError\u001B[0m: name 'TCGA_ready' is not defined"
     ]
    }
   ],
   "source": [
    "TCGA_ready.to_csv('D:/TCGA_XGBoost/venv/TCGA_data/TCGA_ready.csv',index = False, encoding='utf-8')"
   ],
   "metadata": {
    "collapsed": false,
    "pycharm": {
     "name": "#%%\n"
    }
   }
  },
  {
   "cell_type": "code",
   "execution_count": 7,
   "outputs": [],
   "source": [
    "TCGA_ready = pd.read_csv('D:/TCGA_XGBoost/venv/TCGA_data/TCGA_ready.csv')"
   ],
   "metadata": {
    "collapsed": false,
    "pycharm": {
     "name": "#%%\n"
    }
   }
  },
  {
   "cell_type": "markdown",
   "source": [],
   "metadata": {
    "collapsed": false,
    "pycharm": {
     "name": "#%% md\n"
    }
   }
  },
  {
   "cell_type": "code",
   "execution_count": 8,
   "outputs": [
    {
     "data": {
      "text/plain": "       no history of malignancy  yes history of malignancy  \\\n0                             0                          1   \n1                             1                          0   \n2                             1                          0   \n3                             1                          0   \n4                             0                          1   \n...                         ...                        ...   \n10192                         1                          0   \n10193                         0                          1   \n10194                         1                          0   \n10195                         1                          0   \n10196                         1                          0   \n\n       history of prior malignancy  synchrnous/bilateral malignancy  \\\n0                                0                                0   \n1                                0                                0   \n2                                0                                0   \n3                                0                                0   \n4                                0                                0   \n...                            ...                              ...   \n10192                            0                                0   \n10193                            0                                0   \n10194                            0                                0   \n10195                            0                                0   \n10196                            0                                0   \n\n       no radiation  yes radiation  pharmaceutical treatment prior resection  \\\n0                 1              0                                         0   \n1                 1              0                                         0   \n2                 1              0                                         0   \n3                 1              0                                         0   \n4                 1              0                                         0   \n...             ...            ...                                       ...   \n10192             1              0                                         0   \n10193             1              0                                         0   \n10194             1              0                                         0   \n10195             1              0                                         0   \n10196             1              0                                         0   \n\n       radiation prior to resection  HISPANIC OR LATINO  \\\n0                                 0                   0   \n1                                 0                   0   \n2                                 0                   0   \n3                                 0                   1   \n4                                 0                   0   \n...                             ...                 ...   \n10192                             0                   0   \n10193                             0                   0   \n10194                             0                   0   \n10195                             0                   0   \n10196                             0                   1   \n\n       NOT HISPANIC OR LATINO  ...    PAUPAR  AL512506.3  GIMAP1-GIMAP5  \\\n0                           1  ...  0.000000    0.107084       0.017506   \n1                           1  ...  0.000000    0.012532       0.000000   \n2                           1  ...  0.000000    0.044864       0.011984   \n3                           0  ...  0.000000    0.028952       0.000000   \n4                           1  ...  0.000000    0.000000       0.000000   \n...                       ...  ...       ...         ...            ...   \n10192                       1  ...  0.013543    0.022340       0.000000   \n10193                       1  ...  0.000000    0.024793       0.000000   \n10194                       0  ...  0.000000    0.221875       0.000000   \n10195                       1  ...  0.000000    0.018644       0.000000   \n10196                       0  ...  0.000000    0.092680       0.000000   \n\n       AC018638.8  LINC02246  AC233263.6   HERC2P7  SNORA50A.1  LINC01144  \\\n0        0.836876   0.021755    0.000000  0.051557    0.000000   0.746959   \n1        1.831582   0.084354    0.022799  0.029415    0.156985   0.957310   \n2        1.308683   0.051488    0.000000  0.000000    0.000000   0.742474   \n3        0.601304   0.028550    0.000000  0.000000    0.000000   0.748266   \n4        0.365233   0.000000    0.000000  0.000000    0.000000   0.659858   \n...           ...        ...         ...       ...         ...        ...   \n10192    1.673312   0.065104    0.000000  0.000000    0.000000   0.408256   \n10193    0.826820   0.258865    0.000000  0.000000    0.000000   1.136756   \n10194    0.000000   0.076749    0.000000  0.000000    0.000000   0.367782   \n10195    1.455178   0.027489    0.000000  0.000000    0.000000   0.095118   \n10196    0.000000   0.015645    0.000000  0.000000    0.000000   0.479237   \n\n       AC007389.5  \n0        0.000000  \n1        0.171308  \n2        0.105782  \n3        0.068773  \n4        0.407542  \n...           ...  \n10192    0.026862  \n10193    0.000000  \n10194    0.000000  \n10195    0.000000  \n10196    0.889325  \n\n[10197 rows x 56625 columns]",
      "text/html": "<div>\n<style scoped>\n    .dataframe tbody tr th:only-of-type {\n        vertical-align: middle;\n    }\n\n    .dataframe tbody tr th {\n        vertical-align: top;\n    }\n\n    .dataframe thead th {\n        text-align: right;\n    }\n</style>\n<table border=\"1\" class=\"dataframe\">\n  <thead>\n    <tr style=\"text-align: right;\">\n      <th></th>\n      <th>no history of malignancy</th>\n      <th>yes history of malignancy</th>\n      <th>history of prior malignancy</th>\n      <th>synchrnous/bilateral malignancy</th>\n      <th>no radiation</th>\n      <th>yes radiation</th>\n      <th>pharmaceutical treatment prior resection</th>\n      <th>radiation prior to resection</th>\n      <th>HISPANIC OR LATINO</th>\n      <th>NOT HISPANIC OR LATINO</th>\n      <th>...</th>\n      <th>PAUPAR</th>\n      <th>AL512506.3</th>\n      <th>GIMAP1-GIMAP5</th>\n      <th>AC018638.8</th>\n      <th>LINC02246</th>\n      <th>AC233263.6</th>\n      <th>HERC2P7</th>\n      <th>SNORA50A.1</th>\n      <th>LINC01144</th>\n      <th>AC007389.5</th>\n    </tr>\n  </thead>\n  <tbody>\n    <tr>\n      <th>0</th>\n      <td>0</td>\n      <td>1</td>\n      <td>0</td>\n      <td>0</td>\n      <td>1</td>\n      <td>0</td>\n      <td>0</td>\n      <td>0</td>\n      <td>0</td>\n      <td>1</td>\n      <td>...</td>\n      <td>0.000000</td>\n      <td>0.107084</td>\n      <td>0.017506</td>\n      <td>0.836876</td>\n      <td>0.021755</td>\n      <td>0.000000</td>\n      <td>0.051557</td>\n      <td>0.000000</td>\n      <td>0.746959</td>\n      <td>0.000000</td>\n    </tr>\n    <tr>\n      <th>1</th>\n      <td>1</td>\n      <td>0</td>\n      <td>0</td>\n      <td>0</td>\n      <td>1</td>\n      <td>0</td>\n      <td>0</td>\n      <td>0</td>\n      <td>0</td>\n      <td>1</td>\n      <td>...</td>\n      <td>0.000000</td>\n      <td>0.012532</td>\n      <td>0.000000</td>\n      <td>1.831582</td>\n      <td>0.084354</td>\n      <td>0.022799</td>\n      <td>0.029415</td>\n      <td>0.156985</td>\n      <td>0.957310</td>\n      <td>0.171308</td>\n    </tr>\n    <tr>\n      <th>2</th>\n      <td>1</td>\n      <td>0</td>\n      <td>0</td>\n      <td>0</td>\n      <td>1</td>\n      <td>0</td>\n      <td>0</td>\n      <td>0</td>\n      <td>0</td>\n      <td>1</td>\n      <td>...</td>\n      <td>0.000000</td>\n      <td>0.044864</td>\n      <td>0.011984</td>\n      <td>1.308683</td>\n      <td>0.051488</td>\n      <td>0.000000</td>\n      <td>0.000000</td>\n      <td>0.000000</td>\n      <td>0.742474</td>\n      <td>0.105782</td>\n    </tr>\n    <tr>\n      <th>3</th>\n      <td>1</td>\n      <td>0</td>\n      <td>0</td>\n      <td>0</td>\n      <td>1</td>\n      <td>0</td>\n      <td>0</td>\n      <td>0</td>\n      <td>1</td>\n      <td>0</td>\n      <td>...</td>\n      <td>0.000000</td>\n      <td>0.028952</td>\n      <td>0.000000</td>\n      <td>0.601304</td>\n      <td>0.028550</td>\n      <td>0.000000</td>\n      <td>0.000000</td>\n      <td>0.000000</td>\n      <td>0.748266</td>\n      <td>0.068773</td>\n    </tr>\n    <tr>\n      <th>4</th>\n      <td>0</td>\n      <td>1</td>\n      <td>0</td>\n      <td>0</td>\n      <td>1</td>\n      <td>0</td>\n      <td>0</td>\n      <td>0</td>\n      <td>0</td>\n      <td>1</td>\n      <td>...</td>\n      <td>0.000000</td>\n      <td>0.000000</td>\n      <td>0.000000</td>\n      <td>0.365233</td>\n      <td>0.000000</td>\n      <td>0.000000</td>\n      <td>0.000000</td>\n      <td>0.000000</td>\n      <td>0.659858</td>\n      <td>0.407542</td>\n    </tr>\n    <tr>\n      <th>...</th>\n      <td>...</td>\n      <td>...</td>\n      <td>...</td>\n      <td>...</td>\n      <td>...</td>\n      <td>...</td>\n      <td>...</td>\n      <td>...</td>\n      <td>...</td>\n      <td>...</td>\n      <td>...</td>\n      <td>...</td>\n      <td>...</td>\n      <td>...</td>\n      <td>...</td>\n      <td>...</td>\n      <td>...</td>\n      <td>...</td>\n      <td>...</td>\n      <td>...</td>\n      <td>...</td>\n    </tr>\n    <tr>\n      <th>10192</th>\n      <td>1</td>\n      <td>0</td>\n      <td>0</td>\n      <td>0</td>\n      <td>1</td>\n      <td>0</td>\n      <td>0</td>\n      <td>0</td>\n      <td>0</td>\n      <td>1</td>\n      <td>...</td>\n      <td>0.013543</td>\n      <td>0.022340</td>\n      <td>0.000000</td>\n      <td>1.673312</td>\n      <td>0.065104</td>\n      <td>0.000000</td>\n      <td>0.000000</td>\n      <td>0.000000</td>\n      <td>0.408256</td>\n      <td>0.026862</td>\n    </tr>\n    <tr>\n      <th>10193</th>\n      <td>0</td>\n      <td>1</td>\n      <td>0</td>\n      <td>0</td>\n      <td>1</td>\n      <td>0</td>\n      <td>0</td>\n      <td>0</td>\n      <td>0</td>\n      <td>1</td>\n      <td>...</td>\n      <td>0.000000</td>\n      <td>0.024793</td>\n      <td>0.000000</td>\n      <td>0.826820</td>\n      <td>0.258865</td>\n      <td>0.000000</td>\n      <td>0.000000</td>\n      <td>0.000000</td>\n      <td>1.136756</td>\n      <td>0.000000</td>\n    </tr>\n    <tr>\n      <th>10194</th>\n      <td>1</td>\n      <td>0</td>\n      <td>0</td>\n      <td>0</td>\n      <td>1</td>\n      <td>0</td>\n      <td>0</td>\n      <td>0</td>\n      <td>0</td>\n      <td>0</td>\n      <td>...</td>\n      <td>0.000000</td>\n      <td>0.221875</td>\n      <td>0.000000</td>\n      <td>0.000000</td>\n      <td>0.076749</td>\n      <td>0.000000</td>\n      <td>0.000000</td>\n      <td>0.000000</td>\n      <td>0.367782</td>\n      <td>0.000000</td>\n    </tr>\n    <tr>\n      <th>10195</th>\n      <td>1</td>\n      <td>0</td>\n      <td>0</td>\n      <td>0</td>\n      <td>1</td>\n      <td>0</td>\n      <td>0</td>\n      <td>0</td>\n      <td>0</td>\n      <td>1</td>\n      <td>...</td>\n      <td>0.000000</td>\n      <td>0.018644</td>\n      <td>0.000000</td>\n      <td>1.455178</td>\n      <td>0.027489</td>\n      <td>0.000000</td>\n      <td>0.000000</td>\n      <td>0.000000</td>\n      <td>0.095118</td>\n      <td>0.000000</td>\n    </tr>\n    <tr>\n      <th>10196</th>\n      <td>1</td>\n      <td>0</td>\n      <td>0</td>\n      <td>0</td>\n      <td>1</td>\n      <td>0</td>\n      <td>0</td>\n      <td>0</td>\n      <td>1</td>\n      <td>0</td>\n      <td>...</td>\n      <td>0.000000</td>\n      <td>0.092680</td>\n      <td>0.000000</td>\n      <td>0.000000</td>\n      <td>0.015645</td>\n      <td>0.000000</td>\n      <td>0.000000</td>\n      <td>0.000000</td>\n      <td>0.479237</td>\n      <td>0.889325</td>\n    </tr>\n  </tbody>\n</table>\n<p>10197 rows × 56625 columns</p>\n</div>"
     },
     "execution_count": 8,
     "metadata": {},
     "output_type": "execute_result"
    }
   ],
   "source": [
    "TCGA_ready['CFH'] = TCGA_ready['CFH'].replace('`',0)\n",
    "TCGA_ready['ANKIB1'] = TCGA_ready['ANKIB1'].replace('`',0)\n",
    "TCGA_ready.fillna(0)"
   ],
   "metadata": {
    "collapsed": false,
    "pycharm": {
     "name": "#%%\n"
    }
   }
  },
  {
   "cell_type": "code",
   "execution_count": 9,
   "outputs": [],
   "source": [
    "Y=pd.DataFrame(TCGA_ready,columns=['project'])\n",
    "X=TCGA_ready.drop(['project'],axis=1)"
   ],
   "metadata": {
    "collapsed": false,
    "pycharm": {
     "name": "#%%\n"
    }
   }
  },
  {
   "cell_type": "code",
   "execution_count": 10,
   "outputs": [],
   "source": [
    "(X_train,X_test,Y_train,Y_test) = train_test_split(X,Y, test_size=.20)"
   ],
   "metadata": {
    "collapsed": false,
    "pycharm": {
     "name": "#%%\n"
    }
   }
  },
  {
   "cell_type": "code",
   "execution_count": 11,
   "outputs": [],
   "source": [
    "label_encoder_train = preprocessing.LabelEncoder()\n",
    "label_encoder_train.fit(Y_train)\n",
    "Y_train = label_encoder_train.transform(Y_train)\n",
    "\n",
    "label_encoder_test = preprocessing.LabelEncoder()\n",
    "label_encoder_test.fit(Y_test)\n",
    "Y_test = label_encoder_test.transform(Y_test)\n",
    "\n",
    "X_train=X_train.fillna(0)\n",
    "X_test=X_test.fillna(0)"
   ],
   "metadata": {
    "collapsed": false,
    "pycharm": {
     "name": "#%%\n"
    }
   }
  },
  {
   "cell_type": "code",
   "execution_count": 12,
   "outputs": [],
   "source": [
    "# Create Decision Tree classifer object\n",
    "clf = DecisionTreeClassifier()\n",
    "# Train Decision Tree Classifer\n",
    "clf = clf.fit(X_train,Y_train)\n",
    "#Predict the response for test dataset\n",
    "y_pred = clf.predict(X_test)"
   ],
   "metadata": {
    "collapsed": false,
    "pycharm": {
     "name": "#%%\n"
    }
   }
  },
  {
   "cell_type": "code",
   "execution_count": 13,
   "outputs": [
    {
     "name": "stdout",
     "output_type": "stream",
     "text": [
      "Accuracy: 0.8696078431372549\n"
     ]
    }
   ],
   "source": [
    "print(\"Accuracy:\",metrics.accuracy_score(Y_test, y_pred))"
   ],
   "metadata": {
    "collapsed": false,
    "pycharm": {
     "name": "#%%\n"
    }
   }
  },
  {
   "cell_type": "code",
   "execution_count": 14,
   "outputs": [
    {
     "ename": "IndexError",
     "evalue": "list index out of range",
     "output_type": "error",
     "traceback": [
      "\u001B[1;31m---------------------------------------------------------------------------\u001B[0m",
      "\u001B[1;31mIndexError\u001B[0m                                Traceback (most recent call last)",
      "\u001B[1;32m~\\AppData\\Local\\Temp\\ipykernel_18624\\932865975.py\u001B[0m in \u001B[0;36m<module>\u001B[1;34m\u001B[0m\n\u001B[1;32m----> 1\u001B[1;33m \u001B[0mtrees\u001B[0m\u001B[1;33m.\u001B[0m\u001B[0mdtreeviz\u001B[0m\u001B[1;33m(\u001B[0m\u001B[0mclf\u001B[0m\u001B[1;33m,\u001B[0m \u001B[0mX_train\u001B[0m\u001B[1;33m,\u001B[0m\u001B[0mY_train\u001B[0m\u001B[1;33m,\u001B[0m \u001B[0mtarget_name\u001B[0m\u001B[1;33m=\u001B[0m \u001B[1;34m'project'\u001B[0m\u001B[1;33m,\u001B[0m \u001B[0mfeature_names\u001B[0m\u001B[1;33m=\u001B[0m \u001B[0mlist\u001B[0m\u001B[1;33m(\u001B[0m\u001B[0mX_train\u001B[0m\u001B[1;33m.\u001B[0m\u001B[0mcolumns\u001B[0m\u001B[1;33m)\u001B[0m\u001B[1;33m,\u001B[0m \u001B[0mclass_names\u001B[0m\u001B[1;33m=\u001B[0m \u001B[0mlist\u001B[0m\u001B[1;33m(\u001B[0m\u001B[0mlabel_encoder_train\u001B[0m\u001B[1;33m.\u001B[0m\u001B[0mclasses_\u001B[0m\u001B[1;33m)\u001B[0m\u001B[1;33m)\u001B[0m\u001B[1;33m\u001B[0m\u001B[1;33m\u001B[0m\u001B[0m\n\u001B[0m",
      "\u001B[1;32mD:\\TCGA_XGBoost\\venv\\lib\\site-packages\\dtreeviz\\trees.py\u001B[0m in \u001B[0;36mdtreeviz\u001B[1;34m(tree_model, x_data, y_data, feature_names, target_name, class_names, tree_index, precision, orientation, instance_orientation, show_root_edge_labels, show_node_labels, show_just_path, fancy, histtype, highlight_path, X, max_X_features_LR, max_X_features_TD, depth_range_to_display, label_fontsize, ticks_fontsize, fontname, title, title_fontsize, colors, scale)\u001B[0m\n\u001B[0;32m    767\u001B[0m \u001B[1;33m\u001B[0m\u001B[0m\n\u001B[0;32m    768\u001B[0m     \u001B[0mn_classes\u001B[0m \u001B[1;33m=\u001B[0m \u001B[0mshadow_tree\u001B[0m\u001B[1;33m.\u001B[0m\u001B[0mnclasses\u001B[0m\u001B[1;33m(\u001B[0m\u001B[1;33m)\u001B[0m\u001B[1;33m\u001B[0m\u001B[1;33m\u001B[0m\u001B[0m\n\u001B[1;32m--> 769\u001B[1;33m     \u001B[0mcolor_values\u001B[0m \u001B[1;33m=\u001B[0m \u001B[0mcolors\u001B[0m\u001B[1;33m[\u001B[0m\u001B[1;34m'classes'\u001B[0m\u001B[1;33m]\u001B[0m\u001B[1;33m[\u001B[0m\u001B[0mn_classes\u001B[0m\u001B[1;33m]\u001B[0m\u001B[1;33m\u001B[0m\u001B[1;33m\u001B[0m\u001B[0m\n\u001B[0m\u001B[0;32m    770\u001B[0m \u001B[1;33m\u001B[0m\u001B[0m\n\u001B[0;32m    771\u001B[0m     \u001B[1;31m# Fix the mapping from target value to color for entire tree\u001B[0m\u001B[1;33m\u001B[0m\u001B[1;33m\u001B[0m\u001B[1;33m\u001B[0m\u001B[0m\n",
      "\u001B[1;31mIndexError\u001B[0m: list index out of range"
     ]
    }
   ],
   "source": [
    "trees.dtreeviz(clf, X_train,Y_train, target_name= 'project', feature_names= list(X_train.columns), class_names= list(label_encoder_train.classes_))"
   ],
   "metadata": {
    "collapsed": false,
    "pycharm": {
     "name": "#%%\n"
    }
   }
  }
 ],
 "metadata": {
  "kernelspec": {
   "display_name": "Python 3 (ipykernel)",
   "language": "python",
   "name": "python3"
  },
  "language_info": {
   "codemirror_mode": {
    "name": "ipython",
    "version": 3
   },
   "file_extension": ".py",
   "mimetype": "text/x-python",
   "name": "python",
   "nbconvert_exporter": "python",
   "pygments_lexer": "ipython3",
   "version": "3.7.7"
  }
 },
 "nbformat": 4,
 "nbformat_minor": 1
}