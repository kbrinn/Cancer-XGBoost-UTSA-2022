{
 "cells": [
  {
   "cell_type": "code",
   "execution_count": 3,
   "metadata": {
    "pycharm": {
     "name": "#%%\n"
    }
   },
   "outputs": [],
   "source": [
    "import pandas as pd\n",
    "import numpy as np\n",
    "from matplotlib import pyplot\n",
    "from sklearn.tree import DecisionTreeClassifier # Import Decision Tree Classifier\n",
    "from sklearn.model_selection import train_test_split # Import train_test_split function\n",
    "from sklearn import metrics #Import scikit-learn metrics module for accuracy calculatio\n",
    "from sklearn.model_selection import KFold\n",
    "from sklearn.model_selection import cross_val_score\n",
    "from sklearn.tree import export_graphviz\n",
    "from sklearn import tree\n",
    "import graphviz"
   ]
  },
  {
   "cell_type": "code",
   "execution_count": null,
   "outputs": [],
   "source": [
    "import warnings\n",
    "warnings.filterwarnings('ignore')"
   ],
   "metadata": {
    "collapsed": false,
    "pycharm": {
     "name": "#%%\n"
    }
   }
  },
  {
   "cell_type": "code",
   "execution_count": 4,
   "outputs": [],
   "source": [
    "data_frame = pd.read_csv('D:/TCGA_XGBoost/venv/TCGA_data/TCGA_data_frame_RD.csv')"
   ],
   "metadata": {
    "collapsed": false,
    "pycharm": {
     "name": "#%%\n"
    }
   }
  },
  {
   "cell_type": "markdown",
   "metadata": {
    "pycharm": {
     "name": "#%% md\n"
    }
   },
   "source": [
    "Replacing the characters with NaN values in the dataframe and converting to float32\n",
    "Missing values in clinical data are replaced to zero. XGBoost does not support missing values and zeroes do not affect the performance of the model.\n",
    "Previously transformed data into one hot encodin is casted to int32."
   ]
  },
  {
   "cell_type": "code",
   "execution_count": 5,
   "metadata": {
    "pycharm": {
     "name": "#%%\n"
    }
   },
   "outputs": [],
   "source": [
    "data_frame['CFH'] = data_frame['CFH'].replace('`',0)\n",
    "data_frame['ANKIB1'] = data_frame['ANKIB1'].replace('`',0)\n",
    "data_frame=data_frame.astype('float32')\n",
    "data_frame = data_frame.astype('float32')\n",
    "data_frame.iloc[:,0:17] = data_frame.iloc[:,0:17].astype('int32')\n",
    "data_frame.iloc[:,19:22] = data_frame.iloc[:,19:22].astype('int32')"
   ]
  },
  {
   "cell_type": "code",
   "execution_count": 6,
   "outputs": [
    {
     "data": {
      "text/plain": "       no history of malignancy  yes history of malignancy  \\\n0                             1                          0   \n1                             1                          0   \n2                             0                          1   \n3                             1                          0   \n4                             1                          0   \n...                         ...                        ...   \n10192                         1                          0   \n10193                         1                          0   \n10194                         0                          1   \n10195                         1                          0   \n10196                         1                          0   \n\n       history of prior malignancy  synchrnous/bilateral malignancy  \\\n0                                0                                0   \n1                                0                                0   \n2                                0                                0   \n3                                0                                0   \n4                                0                                0   \n...                            ...                              ...   \n10192                            0                                0   \n10193                            0                                0   \n10194                            0                                0   \n10195                            0                                0   \n10196                            0                                0   \n\n       no radiation  yes radiation  pharmaceutical treatment prior resection  \\\n0                 1              0                                         0   \n1                 1              0                                         0   \n2                 1              0                                         0   \n3                 1              0                                         0   \n4                 1              0                                         0   \n...             ...            ...                                       ...   \n10192             1              0                                         0   \n10193             1              0                                         0   \n10194             1              0                                         0   \n10195             1              0                                         0   \n10196             1              0                                         0   \n\n       radiation prior to resection  HISPANIC OR LATINO  \\\n0                                 0                   0   \n1                                 0                   0   \n2                                 0                   0   \n3                                 0                   0   \n4                                 0                   0   \n...                             ...                 ...   \n10192                             0                   0   \n10193                             0                   0   \n10194                             0                   0   \n10195                             0                   0   \n10196                             0                   0   \n\n       NOT HISPANIC OR LATINO  ...  AL512506.3  GIMAP1-GIMAP5  AC018638.8  \\\n0                           1  ...    0.050113            0.0    0.536872   \n1                           1  ...    0.024354            0.0    0.815561   \n2                           1  ...    0.048766            0.0    1.067806   \n3                           0  ...    0.135779            0.0    2.915555   \n4                           0  ...    0.133320            0.0    1.404047   \n...                       ...  ...         ...            ...         ...   \n10192                       1  ...    0.037708            0.0    2.489559   \n10193                       0  ...    0.000000            0.0    0.583569   \n10194                       1  ...    0.096340            0.0    2.311387   \n10195                       1  ...    0.076708            0.0    1.920687   \n10196                       1  ...    0.036004            0.0    2.544627   \n\n       LINC02246  AC233263.6   HERC2P7  SNORA50A.1  LINC01144  AC007389.5  \\\n0       0.073513    0.000000  0.000000    0.000000   1.000083    0.117875   \n1       0.105055    0.000000  0.000000    0.000000   0.181174    0.057977   \n2       0.267099    0.022464  0.000000    0.294551   0.623332    0.412760   \n3       0.068534    0.025763  0.000000    0.333501   0.141980    0.388470   \n4       0.099756    0.000000  0.053941    0.000000   0.364531    0.552257   \n...          ...         ...       ...         ...        ...         ...   \n10192   0.091227    0.000000  0.087495    0.301733   1.277739    0.000000   \n10193   0.107125    0.000000  0.000000    0.000000   0.348329    0.000000   \n10194   0.085806    0.000000  0.000000    0.000000   1.316620    1.091578   \n10195   0.097605    0.000000  0.000000    0.000000   0.929183    0.336926   \n10196   0.035505    0.024747  0.103770    0.222167   1.772503    0.105788   \n\n            CTR  \n0      1.641144  \n1      2.873456  \n2      3.911706  \n3      2.264880  \n4      5.124997  \n...         ...  \n10192  1.202394  \n10193  0.964751  \n10194  2.311069  \n10195  4.135093  \n10196  2.127364  \n\n[10197 rows x 56625 columns]",
      "text/html": "<div>\n<style scoped>\n    .dataframe tbody tr th:only-of-type {\n        vertical-align: middle;\n    }\n\n    .dataframe tbody tr th {\n        vertical-align: top;\n    }\n\n    .dataframe thead th {\n        text-align: right;\n    }\n</style>\n<table border=\"1\" class=\"dataframe\">\n  <thead>\n    <tr style=\"text-align: right;\">\n      <th></th>\n      <th>no history of malignancy</th>\n      <th>yes history of malignancy</th>\n      <th>history of prior malignancy</th>\n      <th>synchrnous/bilateral malignancy</th>\n      <th>no radiation</th>\n      <th>yes radiation</th>\n      <th>pharmaceutical treatment prior resection</th>\n      <th>radiation prior to resection</th>\n      <th>HISPANIC OR LATINO</th>\n      <th>NOT HISPANIC OR LATINO</th>\n      <th>...</th>\n      <th>AL512506.3</th>\n      <th>GIMAP1-GIMAP5</th>\n      <th>AC018638.8</th>\n      <th>LINC02246</th>\n      <th>AC233263.6</th>\n      <th>HERC2P7</th>\n      <th>SNORA50A.1</th>\n      <th>LINC01144</th>\n      <th>AC007389.5</th>\n      <th>CTR</th>\n    </tr>\n  </thead>\n  <tbody>\n    <tr>\n      <th>0</th>\n      <td>1</td>\n      <td>0</td>\n      <td>0</td>\n      <td>0</td>\n      <td>1</td>\n      <td>0</td>\n      <td>0</td>\n      <td>0</td>\n      <td>0</td>\n      <td>1</td>\n      <td>...</td>\n      <td>0.050113</td>\n      <td>0.0</td>\n      <td>0.536872</td>\n      <td>0.073513</td>\n      <td>0.000000</td>\n      <td>0.000000</td>\n      <td>0.000000</td>\n      <td>1.000083</td>\n      <td>0.117875</td>\n      <td>1.641144</td>\n    </tr>\n    <tr>\n      <th>1</th>\n      <td>1</td>\n      <td>0</td>\n      <td>0</td>\n      <td>0</td>\n      <td>1</td>\n      <td>0</td>\n      <td>0</td>\n      <td>0</td>\n      <td>0</td>\n      <td>1</td>\n      <td>...</td>\n      <td>0.024354</td>\n      <td>0.0</td>\n      <td>0.815561</td>\n      <td>0.105055</td>\n      <td>0.000000</td>\n      <td>0.000000</td>\n      <td>0.000000</td>\n      <td>0.181174</td>\n      <td>0.057977</td>\n      <td>2.873456</td>\n    </tr>\n    <tr>\n      <th>2</th>\n      <td>0</td>\n      <td>1</td>\n      <td>0</td>\n      <td>0</td>\n      <td>1</td>\n      <td>0</td>\n      <td>0</td>\n      <td>0</td>\n      <td>0</td>\n      <td>1</td>\n      <td>...</td>\n      <td>0.048766</td>\n      <td>0.0</td>\n      <td>1.067806</td>\n      <td>0.267099</td>\n      <td>0.022464</td>\n      <td>0.000000</td>\n      <td>0.294551</td>\n      <td>0.623332</td>\n      <td>0.412760</td>\n      <td>3.911706</td>\n    </tr>\n    <tr>\n      <th>3</th>\n      <td>1</td>\n      <td>0</td>\n      <td>0</td>\n      <td>0</td>\n      <td>1</td>\n      <td>0</td>\n      <td>0</td>\n      <td>0</td>\n      <td>0</td>\n      <td>0</td>\n      <td>...</td>\n      <td>0.135779</td>\n      <td>0.0</td>\n      <td>2.915555</td>\n      <td>0.068534</td>\n      <td>0.025763</td>\n      <td>0.000000</td>\n      <td>0.333501</td>\n      <td>0.141980</td>\n      <td>0.388470</td>\n      <td>2.264880</td>\n    </tr>\n    <tr>\n      <th>4</th>\n      <td>1</td>\n      <td>0</td>\n      <td>0</td>\n      <td>0</td>\n      <td>1</td>\n      <td>0</td>\n      <td>0</td>\n      <td>0</td>\n      <td>0</td>\n      <td>0</td>\n      <td>...</td>\n      <td>0.133320</td>\n      <td>0.0</td>\n      <td>1.404047</td>\n      <td>0.099756</td>\n      <td>0.000000</td>\n      <td>0.053941</td>\n      <td>0.000000</td>\n      <td>0.364531</td>\n      <td>0.552257</td>\n      <td>5.124997</td>\n    </tr>\n    <tr>\n      <th>...</th>\n      <td>...</td>\n      <td>...</td>\n      <td>...</td>\n      <td>...</td>\n      <td>...</td>\n      <td>...</td>\n      <td>...</td>\n      <td>...</td>\n      <td>...</td>\n      <td>...</td>\n      <td>...</td>\n      <td>...</td>\n      <td>...</td>\n      <td>...</td>\n      <td>...</td>\n      <td>...</td>\n      <td>...</td>\n      <td>...</td>\n      <td>...</td>\n      <td>...</td>\n      <td>...</td>\n    </tr>\n    <tr>\n      <th>10192</th>\n      <td>1</td>\n      <td>0</td>\n      <td>0</td>\n      <td>0</td>\n      <td>1</td>\n      <td>0</td>\n      <td>0</td>\n      <td>0</td>\n      <td>0</td>\n      <td>1</td>\n      <td>...</td>\n      <td>0.037708</td>\n      <td>0.0</td>\n      <td>2.489559</td>\n      <td>0.091227</td>\n      <td>0.000000</td>\n      <td>0.087495</td>\n      <td>0.301733</td>\n      <td>1.277739</td>\n      <td>0.000000</td>\n      <td>1.202394</td>\n    </tr>\n    <tr>\n      <th>10193</th>\n      <td>1</td>\n      <td>0</td>\n      <td>0</td>\n      <td>0</td>\n      <td>1</td>\n      <td>0</td>\n      <td>0</td>\n      <td>0</td>\n      <td>0</td>\n      <td>0</td>\n      <td>...</td>\n      <td>0.000000</td>\n      <td>0.0</td>\n      <td>0.583569</td>\n      <td>0.107125</td>\n      <td>0.000000</td>\n      <td>0.000000</td>\n      <td>0.000000</td>\n      <td>0.348329</td>\n      <td>0.000000</td>\n      <td>0.964751</td>\n    </tr>\n    <tr>\n      <th>10194</th>\n      <td>0</td>\n      <td>1</td>\n      <td>0</td>\n      <td>0</td>\n      <td>1</td>\n      <td>0</td>\n      <td>0</td>\n      <td>0</td>\n      <td>0</td>\n      <td>1</td>\n      <td>...</td>\n      <td>0.096340</td>\n      <td>0.0</td>\n      <td>2.311387</td>\n      <td>0.085806</td>\n      <td>0.000000</td>\n      <td>0.000000</td>\n      <td>0.000000</td>\n      <td>1.316620</td>\n      <td>1.091578</td>\n      <td>2.311069</td>\n    </tr>\n    <tr>\n      <th>10195</th>\n      <td>1</td>\n      <td>0</td>\n      <td>0</td>\n      <td>0</td>\n      <td>1</td>\n      <td>0</td>\n      <td>0</td>\n      <td>0</td>\n      <td>0</td>\n      <td>1</td>\n      <td>...</td>\n      <td>0.076708</td>\n      <td>0.0</td>\n      <td>1.920687</td>\n      <td>0.097605</td>\n      <td>0.000000</td>\n      <td>0.000000</td>\n      <td>0.000000</td>\n      <td>0.929183</td>\n      <td>0.336926</td>\n      <td>4.135093</td>\n    </tr>\n    <tr>\n      <th>10196</th>\n      <td>1</td>\n      <td>0</td>\n      <td>0</td>\n      <td>0</td>\n      <td>1</td>\n      <td>0</td>\n      <td>0</td>\n      <td>0</td>\n      <td>0</td>\n      <td>1</td>\n      <td>...</td>\n      <td>0.036004</td>\n      <td>0.0</td>\n      <td>2.544627</td>\n      <td>0.035505</td>\n      <td>0.024747</td>\n      <td>0.103770</td>\n      <td>0.222167</td>\n      <td>1.772503</td>\n      <td>0.105788</td>\n      <td>2.127364</td>\n    </tr>\n  </tbody>\n</table>\n<p>10197 rows × 56625 columns</p>\n</div>"
     },
     "execution_count": 6,
     "metadata": {},
     "output_type": "execute_result"
    }
   ],
   "source": [
    "data_frame"
   ],
   "metadata": {
    "collapsed": false,
    "pycharm": {
     "name": "#%%\n"
    }
   }
  },
  {
   "cell_type": "markdown",
   "metadata": {
    "pycharm": {
     "name": "#%% md\n"
    }
   },
   "source": [
    "Model_1 is trained on clinical and gene count data. Target variable is vital_status.\n",
    "Model_2 is trained on gene count data. Target variable is vital_status."
   ]
  },
  {
   "cell_type": "code",
   "execution_count": 7,
   "metadata": {
    "pycharm": {
     "name": "#%%\n"
    }
   },
   "outputs": [],
   "source": [
    "Y=pd.DataFrame(data_frame,columns=['vital_status'])\n",
    "X=data_frame.drop(['vital_status'],axis=1)"
   ]
  },
  {
   "cell_type": "code",
   "execution_count": 8,
   "outputs": [],
   "source": [
    "Y_rename = Y.replace({0:'alive', 1:'dead'})\n",
    "Y_encoded = pd.get_dummies(Y_rename)"
   ],
   "metadata": {
    "collapsed": false,
    "pycharm": {
     "name": "#%%\n"
    }
   }
  },
  {
   "cell_type": "code",
   "execution_count": 9,
   "outputs": [],
   "source": [
    "features_names = X.columns\n",
    "class_names = Y_encoded.columns"
   ],
   "metadata": {
    "collapsed": false,
    "pycharm": {
     "name": "#%%\n"
    }
   }
  },
  {
   "cell_type": "markdown",
   "source": [],
   "metadata": {
    "collapsed": false,
    "pycharm": {
     "name": "#%% md\n"
    }
   }
  },
  {
   "cell_type": "code",
   "execution_count": 10,
   "metadata": {
    "pycharm": {
     "name": "#%%\n"
    }
   },
   "outputs": [],
   "source": [
    "(X_train,X_test,Y_train,Y_test) = train_test_split(X,Y, test_size=.25)"
   ]
  },
  {
   "cell_type": "code",
   "execution_count": 11,
   "outputs": [],
   "source": [
    "Y_train = Y_train.to_numpy(dtype='int32')\n",
    "Y_test = Y_test.to_numpy(dtype='int32')\n",
    "X_train = X_train.to_numpy(dtype='float32', na_value=0)\n",
    "X_test = X_test.to_numpy(dtype='float32', na_value=0)\n",
    "\n",
    "# Y_train.replace(np.inf,np.nan)\n",
    "# Y_test.replace(np.inf,np.nan)\n",
    "# X_train.replace(np.inf,np.nan)\n",
    "# X_test.replace(np.inf,np.nan)"
   ],
   "metadata": {
    "collapsed": false,
    "pycharm": {
     "name": "#%%\n"
    }
   }
  },
  {
   "cell_type": "markdown",
   "source": [],
   "metadata": {
    "collapsed": false,
    "pycharm": {
     "name": "#%% md\n"
    }
   }
  },
  {
   "cell_type": "code",
   "execution_count": 12,
   "outputs": [],
   "source": [
    "# Create Decision Tree classifer object\n",
    "clf = DecisionTreeClassifier()\n",
    "# Train Decision Tree Classifer\n",
    "clf = clf.fit(X_train,Y_train)\n",
    "#Predict the response for test dataset\n",
    "y_pred = clf.predict(X_test)"
   ],
   "metadata": {
    "collapsed": false,
    "pycharm": {
     "name": "#%%\n"
    }
   }
  },
  {
   "cell_type": "code",
   "execution_count": 13,
   "outputs": [
    {
     "name": "stdout",
     "output_type": "stream",
     "text": [
      "Accuracy: 0.9921568627450981\n"
     ]
    }
   ],
   "source": [
    "print(\"Accuracy:\",metrics.accuracy_score(Y_test, y_pred))"
   ],
   "metadata": {
    "collapsed": false,
    "pycharm": {
     "name": "#%%\n"
    }
   }
  },
  {
   "cell_type": "code",
   "execution_count": 15,
   "outputs": [
    {
     "data": {
      "image/svg+xml": "<?xml version=\"1.0\" encoding=\"UTF-8\" standalone=\"no\"?>\n<!DOCTYPE svg PUBLIC \"-//W3C//DTD SVG 1.1//EN\"\n \"http://www.w3.org/Graphics/SVG/1.1/DTD/svg11.dtd\">\n<!-- Generated by graphviz version 3.0.0 (20220226.1711)\n -->\n<!-- Title: Tree Pages: 1 -->\n<svg width=\"1334pt\" height=\"1353pt\"\n viewBox=\"0.00 0.00 1334.00 1353.00\" xmlns=\"http://www.w3.org/2000/svg\" xmlns:xlink=\"http://www.w3.org/1999/xlink\">\n<g id=\"graph0\" class=\"graph\" transform=\"scale(1 1) rotate(0) translate(4 1349)\">\n<title>Tree</title>\n<polygon fill=\"white\" stroke=\"transparent\" points=\"-4,4 -4,-1349 1330,-1349 1330,4 -4,4\"/>\n<!-- 0 -->\n<g id=\"node1\" class=\"node\">\n<title>0</title>\n<polygon fill=\"#eca470\" stroke=\"black\" points=\"1039,-1345 863,-1345 863,-1262 1039,-1262 1039,-1345\"/>\n<text text-anchor=\"middle\" x=\"951\" y=\"-1329.8\" font-family=\"Helvetica,sans-Serif\" font-size=\"14.00\">years_to_death &lt;= 0.001</text>\n<text text-anchor=\"middle\" x=\"951\" y=\"-1314.8\" font-family=\"Helvetica,sans-Serif\" font-size=\"14.00\">gini = 0.342</text>\n<text text-anchor=\"middle\" x=\"951\" y=\"-1299.8\" font-family=\"Helvetica,sans-Serif\" font-size=\"14.00\">samples = 7647</text>\n<text text-anchor=\"middle\" x=\"951\" y=\"-1284.8\" font-family=\"Helvetica,sans-Serif\" font-size=\"14.00\">value = [5976, 1671]</text>\n<text text-anchor=\"middle\" x=\"951\" y=\"-1269.8\" font-family=\"Helvetica,sans-Serif\" font-size=\"14.00\">class = vital_status_alive</text>\n</g>\n<!-- 1 -->\n<g id=\"node2\" class=\"node\">\n<title>1</title>\n<polygon fill=\"#e5823a\" stroke=\"black\" points=\"941,-1226 769,-1226 769,-1143 941,-1143 941,-1226\"/>\n<text text-anchor=\"middle\" x=\"855\" y=\"-1210.8\" font-family=\"Helvetica,sans-Serif\" font-size=\"14.00\">TJP1 &lt;= 0.006</text>\n<text text-anchor=\"middle\" x=\"855\" y=\"-1195.8\" font-family=\"Helvetica,sans-Serif\" font-size=\"14.00\">gini = 0.014</text>\n<text text-anchor=\"middle\" x=\"855\" y=\"-1180.8\" font-family=\"Helvetica,sans-Serif\" font-size=\"14.00\">samples = 6018</text>\n<text text-anchor=\"middle\" x=\"855\" y=\"-1165.8\" font-family=\"Helvetica,sans-Serif\" font-size=\"14.00\">value = [5976, 42]</text>\n<text text-anchor=\"middle\" x=\"855\" y=\"-1150.8\" font-family=\"Helvetica,sans-Serif\" font-size=\"14.00\">class = vital_status_alive</text>\n</g>\n<!-- 0&#45;&gt;1 -->\n<g id=\"edge1\" class=\"edge\">\n<title>0&#45;&gt;1</title>\n<path fill=\"none\" stroke=\"black\" d=\"M917.69,-1261.91C910.25,-1252.83 902.28,-1243.12 894.61,-1233.77\"/>\n<polygon fill=\"black\" stroke=\"black\" points=\"897.3,-1231.53 888.25,-1226.02 891.89,-1235.97 897.3,-1231.53\"/>\n<text text-anchor=\"middle\" x=\"885.79\" y=\"-1247.2\" font-family=\"Helvetica,sans-Serif\" font-size=\"14.00\">True</text>\n</g>\n<!-- 56 -->\n<g id=\"node29\" class=\"node\">\n<title>56</title>\n<polygon fill=\"#399de5\" stroke=\"black\" points=\"1135,-1218.5 959,-1218.5 959,-1150.5 1135,-1150.5 1135,-1218.5\"/>\n<text text-anchor=\"middle\" x=\"1047\" y=\"-1203.3\" font-family=\"Helvetica,sans-Serif\" font-size=\"14.00\">gini = 0.0</text>\n<text text-anchor=\"middle\" x=\"1047\" y=\"-1188.3\" font-family=\"Helvetica,sans-Serif\" font-size=\"14.00\">samples = 1629</text>\n<text text-anchor=\"middle\" x=\"1047\" y=\"-1173.3\" font-family=\"Helvetica,sans-Serif\" font-size=\"14.00\">value = [0, 1629]</text>\n<text text-anchor=\"middle\" x=\"1047\" y=\"-1158.3\" font-family=\"Helvetica,sans-Serif\" font-size=\"14.00\">class = vital_status_dead</text>\n</g>\n<!-- 0&#45;&gt;56 -->\n<g id=\"edge28\" class=\"edge\">\n<title>0&#45;&gt;56</title>\n<path fill=\"none\" stroke=\"black\" d=\"M984.31,-1261.91C993.72,-1250.43 1003.97,-1237.94 1013.41,-1226.44\"/>\n<polygon fill=\"black\" stroke=\"black\" points=\"1016.15,-1228.62 1019.79,-1218.67 1010.74,-1224.18 1016.15,-1228.62\"/>\n<text text-anchor=\"middle\" x=\"1022.24\" y=\"-1239.85\" font-family=\"Helvetica,sans-Serif\" font-size=\"14.00\">False</text>\n</g>\n<!-- 2 -->\n<g id=\"node3\" class=\"node\">\n<title>2</title>\n<polygon fill=\"#399de5\" stroke=\"black\" points=\"847,-1099.5 671,-1099.5 671,-1031.5 847,-1031.5 847,-1099.5\"/>\n<text text-anchor=\"middle\" x=\"759\" y=\"-1084.3\" font-family=\"Helvetica,sans-Serif\" font-size=\"14.00\">gini = 0.0</text>\n<text text-anchor=\"middle\" x=\"759\" y=\"-1069.3\" font-family=\"Helvetica,sans-Serif\" font-size=\"14.00\">samples = 8</text>\n<text text-anchor=\"middle\" x=\"759\" y=\"-1054.3\" font-family=\"Helvetica,sans-Serif\" font-size=\"14.00\">value = [0, 8]</text>\n<text text-anchor=\"middle\" x=\"759\" y=\"-1039.3\" font-family=\"Helvetica,sans-Serif\" font-size=\"14.00\">class = vital_status_dead</text>\n</g>\n<!-- 1&#45;&gt;2 -->\n<g id=\"edge2\" class=\"edge\">\n<title>1&#45;&gt;2</title>\n<path fill=\"none\" stroke=\"black\" d=\"M821.69,-1142.91C812.28,-1131.43 802.03,-1118.94 792.59,-1107.44\"/>\n<polygon fill=\"black\" stroke=\"black\" points=\"795.26,-1105.18 786.21,-1099.67 789.85,-1109.62 795.26,-1105.18\"/>\n</g>\n<!-- 3 -->\n<g id=\"node4\" class=\"node\">\n<title>3</title>\n<polygon fill=\"#e5823a\" stroke=\"black\" points=\"1037,-1107 865,-1107 865,-1024 1037,-1024 1037,-1107\"/>\n<text text-anchor=\"middle\" x=\"951\" y=\"-1091.8\" font-family=\"Helvetica,sans-Serif\" font-size=\"14.00\">AC007556.1 &lt;= 2.381</text>\n<text text-anchor=\"middle\" x=\"951\" y=\"-1076.8\" font-family=\"Helvetica,sans-Serif\" font-size=\"14.00\">gini = 0.011</text>\n<text text-anchor=\"middle\" x=\"951\" y=\"-1061.8\" font-family=\"Helvetica,sans-Serif\" font-size=\"14.00\">samples = 6010</text>\n<text text-anchor=\"middle\" x=\"951\" y=\"-1046.8\" font-family=\"Helvetica,sans-Serif\" font-size=\"14.00\">value = [5976, 34]</text>\n<text text-anchor=\"middle\" x=\"951\" y=\"-1031.8\" font-family=\"Helvetica,sans-Serif\" font-size=\"14.00\">class = vital_status_alive</text>\n</g>\n<!-- 1&#45;&gt;3 -->\n<g id=\"edge3\" class=\"edge\">\n<title>1&#45;&gt;3</title>\n<path fill=\"none\" stroke=\"black\" d=\"M888.31,-1142.91C895.75,-1133.83 903.72,-1124.12 911.39,-1114.77\"/>\n<polygon fill=\"black\" stroke=\"black\" points=\"914.11,-1116.97 917.75,-1107.02 908.7,-1112.53 914.11,-1116.97\"/>\n</g>\n<!-- 4 -->\n<g id=\"node5\" class=\"node\">\n<title>4</title>\n<polygon fill=\"#e5823a\" stroke=\"black\" points=\"942,-988 766,-988 766,-905 942,-905 942,-988\"/>\n<text text-anchor=\"middle\" x=\"854\" y=\"-972.8\" font-family=\"Helvetica,sans-Serif\" font-size=\"14.00\">years_to_birth &lt;= 90.002</text>\n<text text-anchor=\"middle\" x=\"854\" y=\"-957.8\" font-family=\"Helvetica,sans-Serif\" font-size=\"14.00\">gini = 0.01</text>\n<text text-anchor=\"middle\" x=\"854\" y=\"-942.8\" font-family=\"Helvetica,sans-Serif\" font-size=\"14.00\">samples = 6003</text>\n<text text-anchor=\"middle\" x=\"854\" y=\"-927.8\" font-family=\"Helvetica,sans-Serif\" font-size=\"14.00\">value = [5974, 29]</text>\n<text text-anchor=\"middle\" x=\"854\" y=\"-912.8\" font-family=\"Helvetica,sans-Serif\" font-size=\"14.00\">class = vital_status_alive</text>\n</g>\n<!-- 3&#45;&gt;4 -->\n<g id=\"edge4\" class=\"edge\">\n<title>3&#45;&gt;4</title>\n<path fill=\"none\" stroke=\"black\" d=\"M917.35,-1023.91C909.82,-1014.83 901.77,-1005.12 894.02,-995.77\"/>\n<polygon fill=\"black\" stroke=\"black\" points=\"896.67,-993.49 887.59,-988.02 891.28,-997.95 896.67,-993.49\"/>\n</g>\n<!-- 53 -->\n<g id=\"node26\" class=\"node\">\n<title>53</title>\n<polygon fill=\"#88c4ef\" stroke=\"black\" points=\"1136,-988 960,-988 960,-905 1136,-905 1136,-988\"/>\n<text text-anchor=\"middle\" x=\"1048\" y=\"-972.8\" font-family=\"Helvetica,sans-Serif\" font-size=\"14.00\">AL360081.1 &lt;= 1.056</text>\n<text text-anchor=\"middle\" x=\"1048\" y=\"-957.8\" font-family=\"Helvetica,sans-Serif\" font-size=\"14.00\">gini = 0.408</text>\n<text text-anchor=\"middle\" x=\"1048\" y=\"-942.8\" font-family=\"Helvetica,sans-Serif\" font-size=\"14.00\">samples = 7</text>\n<text text-anchor=\"middle\" x=\"1048\" y=\"-927.8\" font-family=\"Helvetica,sans-Serif\" font-size=\"14.00\">value = [2, 5]</text>\n<text text-anchor=\"middle\" x=\"1048\" y=\"-912.8\" font-family=\"Helvetica,sans-Serif\" font-size=\"14.00\">class = vital_status_dead</text>\n</g>\n<!-- 3&#45;&gt;53 -->\n<g id=\"edge25\" class=\"edge\">\n<title>3&#45;&gt;53</title>\n<path fill=\"none\" stroke=\"black\" d=\"M984.65,-1023.91C992.18,-1014.83 1000.23,-1005.12 1007.98,-995.77\"/>\n<polygon fill=\"black\" stroke=\"black\" points=\"1010.72,-997.95 1014.41,-988.02 1005.33,-993.49 1010.72,-997.95\"/>\n</g>\n<!-- 5 -->\n<g id=\"node6\" class=\"node\">\n<title>5</title>\n<polygon fill=\"#e5813a\" stroke=\"black\" points=\"749,-869 577,-869 577,-786 749,-786 749,-869\"/>\n<text text-anchor=\"middle\" x=\"663\" y=\"-853.8\" font-family=\"Helvetica,sans-Serif\" font-size=\"14.00\">GAPDHP64 &lt;= 1.183</text>\n<text text-anchor=\"middle\" x=\"663\" y=\"-838.8\" font-family=\"Helvetica,sans-Serif\" font-size=\"14.00\">gini = 0.007</text>\n<text text-anchor=\"middle\" x=\"663\" y=\"-823.8\" font-family=\"Helvetica,sans-Serif\" font-size=\"14.00\">samples = 5975</text>\n<text text-anchor=\"middle\" x=\"663\" y=\"-808.8\" font-family=\"Helvetica,sans-Serif\" font-size=\"14.00\">value = [5954, 21]</text>\n<text text-anchor=\"middle\" x=\"663\" y=\"-793.8\" font-family=\"Helvetica,sans-Serif\" font-size=\"14.00\">class = vital_status_alive</text>\n</g>\n<!-- 4&#45;&gt;5 -->\n<g id=\"edge5\" class=\"edge\">\n<title>4&#45;&gt;5</title>\n<path fill=\"none\" stroke=\"black\" d=\"M787.73,-904.91C771.59,-895.02 754.2,-884.37 737.69,-874.25\"/>\n<polygon fill=\"black\" stroke=\"black\" points=\"739.5,-871.26 729.15,-869.02 735.85,-877.23 739.5,-871.26\"/>\n</g>\n<!-- 48 -->\n<g id=\"node21\" class=\"node\">\n<title>48</title>\n<polygon fill=\"#efb388\" stroke=\"black\" points=\"941,-869 769,-869 769,-786 941,-786 941,-869\"/>\n<text text-anchor=\"middle\" x=\"855\" y=\"-853.8\" font-family=\"Helvetica,sans-Serif\" font-size=\"14.00\">RNVU1&#45;1 &lt;= 0.323</text>\n<text text-anchor=\"middle\" x=\"855\" y=\"-838.8\" font-family=\"Helvetica,sans-Serif\" font-size=\"14.00\">gini = 0.408</text>\n<text text-anchor=\"middle\" x=\"855\" y=\"-823.8\" font-family=\"Helvetica,sans-Serif\" font-size=\"14.00\">samples = 28</text>\n<text text-anchor=\"middle\" x=\"855\" y=\"-808.8\" font-family=\"Helvetica,sans-Serif\" font-size=\"14.00\">value = [20, 8]</text>\n<text text-anchor=\"middle\" x=\"855\" y=\"-793.8\" font-family=\"Helvetica,sans-Serif\" font-size=\"14.00\">class = vital_status_alive</text>\n</g>\n<!-- 4&#45;&gt;48 -->\n<g id=\"edge20\" class=\"edge\">\n<title>4&#45;&gt;48</title>\n<path fill=\"none\" stroke=\"black\" d=\"M854.35,-904.91C854.42,-896.65 854.49,-887.86 854.57,-879.3\"/>\n<polygon fill=\"black\" stroke=\"black\" points=\"858.07,-879.05 854.65,-869.02 851.07,-878.99 858.07,-879.05\"/>\n</g>\n<!-- 6 -->\n<g id=\"node7\" class=\"node\">\n<title>6</title>\n<polygon fill=\"#e5813a\" stroke=\"black\" points=\"557,-750 385,-750 385,-667 557,-667 557,-750\"/>\n<text text-anchor=\"middle\" x=\"471\" y=\"-734.8\" font-family=\"Helvetica,sans-Serif\" font-size=\"14.00\">NAA16 &lt;= 4.309</text>\n<text text-anchor=\"middle\" x=\"471\" y=\"-719.8\" font-family=\"Helvetica,sans-Serif\" font-size=\"14.00\">gini = 0.006</text>\n<text text-anchor=\"middle\" x=\"471\" y=\"-704.8\" font-family=\"Helvetica,sans-Serif\" font-size=\"14.00\">samples = 5973</text>\n<text text-anchor=\"middle\" x=\"471\" y=\"-689.8\" font-family=\"Helvetica,sans-Serif\" font-size=\"14.00\">value = [5954, 19]</text>\n<text text-anchor=\"middle\" x=\"471\" y=\"-674.8\" font-family=\"Helvetica,sans-Serif\" font-size=\"14.00\">class = vital_status_alive</text>\n</g>\n<!-- 5&#45;&gt;6 -->\n<g id=\"edge6\" class=\"edge\">\n<title>5&#45;&gt;6</title>\n<path fill=\"none\" stroke=\"black\" d=\"M596.39,-785.91C580.15,-776.02 562.68,-765.37 546.08,-755.25\"/>\n<polygon fill=\"black\" stroke=\"black\" points=\"547.86,-752.24 537.5,-750.02 544.21,-758.21 547.86,-752.24\"/>\n</g>\n<!-- 47 -->\n<g id=\"node20\" class=\"node\">\n<title>47</title>\n<polygon fill=\"#399de5\" stroke=\"black\" points=\"751,-742.5 575,-742.5 575,-674.5 751,-674.5 751,-742.5\"/>\n<text text-anchor=\"middle\" x=\"663\" y=\"-727.3\" font-family=\"Helvetica,sans-Serif\" font-size=\"14.00\">gini = 0.0</text>\n<text text-anchor=\"middle\" x=\"663\" y=\"-712.3\" font-family=\"Helvetica,sans-Serif\" font-size=\"14.00\">samples = 2</text>\n<text text-anchor=\"middle\" x=\"663\" y=\"-697.3\" font-family=\"Helvetica,sans-Serif\" font-size=\"14.00\">value = [0, 2]</text>\n<text text-anchor=\"middle\" x=\"663\" y=\"-682.3\" font-family=\"Helvetica,sans-Serif\" font-size=\"14.00\">class = vital_status_dead</text>\n</g>\n<!-- 5&#45;&gt;47 -->\n<g id=\"edge19\" class=\"edge\">\n<title>5&#45;&gt;47</title>\n<path fill=\"none\" stroke=\"black\" d=\"M663,-785.91C663,-775.2 663,-763.62 663,-752.78\"/>\n<polygon fill=\"black\" stroke=\"black\" points=\"666.5,-752.67 663,-742.67 659.5,-752.67 666.5,-752.67\"/>\n</g>\n<!-- 7 -->\n<g id=\"node8\" class=\"node\">\n<title>7</title>\n<polygon fill=\"#e5813a\" stroke=\"black\" points=\"556,-631 384,-631 384,-548 556,-548 556,-631\"/>\n<text text-anchor=\"middle\" x=\"470\" y=\"-615.8\" font-family=\"Helvetica,sans-Serif\" font-size=\"14.00\">UBE2NL &lt;= 1.6</text>\n<text text-anchor=\"middle\" x=\"470\" y=\"-600.8\" font-family=\"Helvetica,sans-Serif\" font-size=\"14.00\">gini = 0.006</text>\n<text text-anchor=\"middle\" x=\"470\" y=\"-585.8\" font-family=\"Helvetica,sans-Serif\" font-size=\"14.00\">samples = 5972</text>\n<text text-anchor=\"middle\" x=\"470\" y=\"-570.8\" font-family=\"Helvetica,sans-Serif\" font-size=\"14.00\">value = [5954, 18]</text>\n<text text-anchor=\"middle\" x=\"470\" y=\"-555.8\" font-family=\"Helvetica,sans-Serif\" font-size=\"14.00\">class = vital_status_alive</text>\n</g>\n<!-- 6&#45;&gt;7 -->\n<g id=\"edge7\" class=\"edge\">\n<title>6&#45;&gt;7</title>\n<path fill=\"none\" stroke=\"black\" d=\"M470.65,-666.91C470.58,-658.65 470.51,-649.86 470.43,-641.3\"/>\n<polygon fill=\"black\" stroke=\"black\" points=\"473.93,-640.99 470.35,-631.02 466.93,-641.05 473.93,-640.99\"/>\n</g>\n<!-- 46 -->\n<g id=\"node19\" class=\"node\">\n<title>46</title>\n<polygon fill=\"#399de5\" stroke=\"black\" points=\"750,-623.5 574,-623.5 574,-555.5 750,-555.5 750,-623.5\"/>\n<text text-anchor=\"middle\" x=\"662\" y=\"-608.3\" font-family=\"Helvetica,sans-Serif\" font-size=\"14.00\">gini = 0.0</text>\n<text text-anchor=\"middle\" x=\"662\" y=\"-593.3\" font-family=\"Helvetica,sans-Serif\" font-size=\"14.00\">samples = 1</text>\n<text text-anchor=\"middle\" x=\"662\" y=\"-578.3\" font-family=\"Helvetica,sans-Serif\" font-size=\"14.00\">value = [0, 1]</text>\n<text text-anchor=\"middle\" x=\"662\" y=\"-563.3\" font-family=\"Helvetica,sans-Serif\" font-size=\"14.00\">class = vital_status_dead</text>\n</g>\n<!-- 6&#45;&gt;46 -->\n<g id=\"edge18\" class=\"edge\">\n<title>6&#45;&gt;46</title>\n<path fill=\"none\" stroke=\"black\" d=\"M537.27,-666.91C557.35,-654.6 579.35,-641.13 599.2,-628.97\"/>\n<polygon fill=\"black\" stroke=\"black\" points=\"601.16,-631.88 607.86,-623.67 597.5,-625.91 601.16,-631.88\"/>\n</g>\n<!-- 8 -->\n<g id=\"node9\" class=\"node\">\n<title>8</title>\n<polygon fill=\"#e5813a\" stroke=\"black\" points=\"460,-512 288,-512 288,-429 460,-429 460,-512\"/>\n<text text-anchor=\"middle\" x=\"374\" y=\"-496.8\" font-family=\"Helvetica,sans-Serif\" font-size=\"14.00\">LINC02319 &lt;= 1.739</text>\n<text text-anchor=\"middle\" x=\"374\" y=\"-481.8\" font-family=\"Helvetica,sans-Serif\" font-size=\"14.00\">gini = 0.006</text>\n<text text-anchor=\"middle\" x=\"374\" y=\"-466.8\" font-family=\"Helvetica,sans-Serif\" font-size=\"14.00\">samples = 5971</text>\n<text text-anchor=\"middle\" x=\"374\" y=\"-451.8\" font-family=\"Helvetica,sans-Serif\" font-size=\"14.00\">value = [5954, 17]</text>\n<text text-anchor=\"middle\" x=\"374\" y=\"-436.8\" font-family=\"Helvetica,sans-Serif\" font-size=\"14.00\">class = vital_status_alive</text>\n</g>\n<!-- 7&#45;&gt;8 -->\n<g id=\"edge8\" class=\"edge\">\n<title>7&#45;&gt;8</title>\n<path fill=\"none\" stroke=\"black\" d=\"M436.69,-547.91C429.25,-538.83 421.28,-529.12 413.61,-519.77\"/>\n<polygon fill=\"black\" stroke=\"black\" points=\"416.3,-517.53 407.25,-512.02 410.89,-521.97 416.3,-517.53\"/>\n</g>\n<!-- 45 -->\n<g id=\"node18\" class=\"node\">\n<title>45</title>\n<polygon fill=\"#399de5\" stroke=\"black\" points=\"654,-504.5 478,-504.5 478,-436.5 654,-436.5 654,-504.5\"/>\n<text text-anchor=\"middle\" x=\"566\" y=\"-489.3\" font-family=\"Helvetica,sans-Serif\" font-size=\"14.00\">gini = 0.0</text>\n<text text-anchor=\"middle\" x=\"566\" y=\"-474.3\" font-family=\"Helvetica,sans-Serif\" font-size=\"14.00\">samples = 1</text>\n<text text-anchor=\"middle\" x=\"566\" y=\"-459.3\" font-family=\"Helvetica,sans-Serif\" font-size=\"14.00\">value = [0, 1]</text>\n<text text-anchor=\"middle\" x=\"566\" y=\"-444.3\" font-family=\"Helvetica,sans-Serif\" font-size=\"14.00\">class = vital_status_dead</text>\n</g>\n<!-- 7&#45;&gt;45 -->\n<g id=\"edge17\" class=\"edge\">\n<title>7&#45;&gt;45</title>\n<path fill=\"none\" stroke=\"black\" d=\"M503.31,-547.91C512.72,-536.43 522.97,-523.94 532.41,-512.44\"/>\n<polygon fill=\"black\" stroke=\"black\" points=\"535.15,-514.62 538.79,-504.67 529.74,-510.18 535.15,-514.62\"/>\n</g>\n<!-- 9 -->\n<g id=\"node10\" class=\"node\">\n<title>9</title>\n<polygon fill=\"#e5813a\" stroke=\"black\" points=\"364,-393 192,-393 192,-310 364,-310 364,-393\"/>\n<text text-anchor=\"middle\" x=\"278\" y=\"-377.8\" font-family=\"Helvetica,sans-Serif\" font-size=\"14.00\">WRAP53 &lt;= 4.866</text>\n<text text-anchor=\"middle\" x=\"278\" y=\"-362.8\" font-family=\"Helvetica,sans-Serif\" font-size=\"14.00\">gini = 0.005</text>\n<text text-anchor=\"middle\" x=\"278\" y=\"-347.8\" font-family=\"Helvetica,sans-Serif\" font-size=\"14.00\">samples = 5970</text>\n<text text-anchor=\"middle\" x=\"278\" y=\"-332.8\" font-family=\"Helvetica,sans-Serif\" font-size=\"14.00\">value = [5954, 16]</text>\n<text text-anchor=\"middle\" x=\"278\" y=\"-317.8\" font-family=\"Helvetica,sans-Serif\" font-size=\"14.00\">class = vital_status_alive</text>\n</g>\n<!-- 8&#45;&gt;9 -->\n<g id=\"edge9\" class=\"edge\">\n<title>8&#45;&gt;9</title>\n<path fill=\"none\" stroke=\"black\" d=\"M340.69,-428.91C333.25,-419.83 325.28,-410.12 317.61,-400.77\"/>\n<polygon fill=\"black\" stroke=\"black\" points=\"320.3,-398.53 311.25,-393.02 314.89,-402.97 320.3,-398.53\"/>\n</g>\n<!-- 44 -->\n<g id=\"node17\" class=\"node\">\n<title>44</title>\n<polygon fill=\"#399de5\" stroke=\"black\" points=\"558,-385.5 382,-385.5 382,-317.5 558,-317.5 558,-385.5\"/>\n<text text-anchor=\"middle\" x=\"470\" y=\"-370.3\" font-family=\"Helvetica,sans-Serif\" font-size=\"14.00\">gini = 0.0</text>\n<text text-anchor=\"middle\" x=\"470\" y=\"-355.3\" font-family=\"Helvetica,sans-Serif\" font-size=\"14.00\">samples = 1</text>\n<text text-anchor=\"middle\" x=\"470\" y=\"-340.3\" font-family=\"Helvetica,sans-Serif\" font-size=\"14.00\">value = [0, 1]</text>\n<text text-anchor=\"middle\" x=\"470\" y=\"-325.3\" font-family=\"Helvetica,sans-Serif\" font-size=\"14.00\">class = vital_status_dead</text>\n</g>\n<!-- 8&#45;&gt;44 -->\n<g id=\"edge16\" class=\"edge\">\n<title>8&#45;&gt;44</title>\n<path fill=\"none\" stroke=\"black\" d=\"M407.31,-428.91C416.72,-417.43 426.97,-404.94 436.41,-393.44\"/>\n<polygon fill=\"black\" stroke=\"black\" points=\"439.15,-395.62 442.79,-385.67 433.74,-391.18 439.15,-395.62\"/>\n</g>\n<!-- 10 -->\n<g id=\"node11\" class=\"node\">\n<title>10</title>\n<polygon fill=\"#e58139\" stroke=\"black\" points=\"268,-274 96,-274 96,-191 268,-191 268,-274\"/>\n<text text-anchor=\"middle\" x=\"182\" y=\"-258.8\" font-family=\"Helvetica,sans-Serif\" font-size=\"14.00\">AL157402.2 &lt;= 6.529</text>\n<text text-anchor=\"middle\" x=\"182\" y=\"-243.8\" font-family=\"Helvetica,sans-Serif\" font-size=\"14.00\">gini = 0.005</text>\n<text text-anchor=\"middle\" x=\"182\" y=\"-228.8\" font-family=\"Helvetica,sans-Serif\" font-size=\"14.00\">samples = 5969</text>\n<text text-anchor=\"middle\" x=\"182\" y=\"-213.8\" font-family=\"Helvetica,sans-Serif\" font-size=\"14.00\">value = [5954, 15]</text>\n<text text-anchor=\"middle\" x=\"182\" y=\"-198.8\" font-family=\"Helvetica,sans-Serif\" font-size=\"14.00\">class = vital_status_alive</text>\n</g>\n<!-- 9&#45;&gt;10 -->\n<g id=\"edge10\" class=\"edge\">\n<title>9&#45;&gt;10</title>\n<path fill=\"none\" stroke=\"black\" d=\"M244.69,-309.91C237.25,-300.83 229.28,-291.12 221.61,-281.77\"/>\n<polygon fill=\"black\" stroke=\"black\" points=\"224.3,-279.53 215.25,-274.02 218.89,-283.97 224.3,-279.53\"/>\n</g>\n<!-- 43 -->\n<g id=\"node16\" class=\"node\">\n<title>43</title>\n<polygon fill=\"#399de5\" stroke=\"black\" points=\"462,-266.5 286,-266.5 286,-198.5 462,-198.5 462,-266.5\"/>\n<text text-anchor=\"middle\" x=\"374\" y=\"-251.3\" font-family=\"Helvetica,sans-Serif\" font-size=\"14.00\">gini = 0.0</text>\n<text text-anchor=\"middle\" x=\"374\" y=\"-236.3\" font-family=\"Helvetica,sans-Serif\" font-size=\"14.00\">samples = 1</text>\n<text text-anchor=\"middle\" x=\"374\" y=\"-221.3\" font-family=\"Helvetica,sans-Serif\" font-size=\"14.00\">value = [0, 1]</text>\n<text text-anchor=\"middle\" x=\"374\" y=\"-206.3\" font-family=\"Helvetica,sans-Serif\" font-size=\"14.00\">class = vital_status_dead</text>\n</g>\n<!-- 9&#45;&gt;43 -->\n<g id=\"edge15\" class=\"edge\">\n<title>9&#45;&gt;43</title>\n<path fill=\"none\" stroke=\"black\" d=\"M311.31,-309.91C320.72,-298.43 330.97,-285.94 340.41,-274.44\"/>\n<polygon fill=\"black\" stroke=\"black\" points=\"343.15,-276.62 346.79,-266.67 337.74,-272.18 343.15,-276.62\"/>\n</g>\n<!-- 11 -->\n<g id=\"node12\" class=\"node\">\n<title>11</title>\n<polygon fill=\"#e58139\" stroke=\"black\" points=\"172,-155 0,-155 0,-72 172,-72 172,-155\"/>\n<text text-anchor=\"middle\" x=\"86\" y=\"-139.8\" font-family=\"Helvetica,sans-Serif\" font-size=\"14.00\">LINC01189 &lt;= 0.452</text>\n<text text-anchor=\"middle\" x=\"86\" y=\"-124.8\" font-family=\"Helvetica,sans-Serif\" font-size=\"14.00\">gini = 0.005</text>\n<text text-anchor=\"middle\" x=\"86\" y=\"-109.8\" font-family=\"Helvetica,sans-Serif\" font-size=\"14.00\">samples = 5968</text>\n<text text-anchor=\"middle\" x=\"86\" y=\"-94.8\" font-family=\"Helvetica,sans-Serif\" font-size=\"14.00\">value = [5954, 14]</text>\n<text text-anchor=\"middle\" x=\"86\" y=\"-79.8\" font-family=\"Helvetica,sans-Serif\" font-size=\"14.00\">class = vital_status_alive</text>\n</g>\n<!-- 10&#45;&gt;11 -->\n<g id=\"edge11\" class=\"edge\">\n<title>10&#45;&gt;11</title>\n<path fill=\"none\" stroke=\"black\" d=\"M148.69,-190.91C141.25,-181.83 133.28,-172.12 125.61,-162.77\"/>\n<polygon fill=\"black\" stroke=\"black\" points=\"128.3,-160.53 119.25,-155.02 122.89,-164.97 128.3,-160.53\"/>\n</g>\n<!-- 42 -->\n<g id=\"node15\" class=\"node\">\n<title>42</title>\n<polygon fill=\"#399de5\" stroke=\"black\" points=\"366,-147.5 190,-147.5 190,-79.5 366,-79.5 366,-147.5\"/>\n<text text-anchor=\"middle\" x=\"278\" y=\"-132.3\" font-family=\"Helvetica,sans-Serif\" font-size=\"14.00\">gini = 0.0</text>\n<text text-anchor=\"middle\" x=\"278\" y=\"-117.3\" font-family=\"Helvetica,sans-Serif\" font-size=\"14.00\">samples = 1</text>\n<text text-anchor=\"middle\" x=\"278\" y=\"-102.3\" font-family=\"Helvetica,sans-Serif\" font-size=\"14.00\">value = [0, 1]</text>\n<text text-anchor=\"middle\" x=\"278\" y=\"-87.3\" font-family=\"Helvetica,sans-Serif\" font-size=\"14.00\">class = vital_status_dead</text>\n</g>\n<!-- 10&#45;&gt;42 -->\n<g id=\"edge14\" class=\"edge\">\n<title>10&#45;&gt;42</title>\n<path fill=\"none\" stroke=\"black\" d=\"M215.31,-190.91C224.72,-179.43 234.97,-166.94 244.41,-155.44\"/>\n<polygon fill=\"black\" stroke=\"black\" points=\"247.15,-157.62 250.79,-147.67 241.74,-153.18 247.15,-157.62\"/>\n</g>\n<!-- 12 -->\n<g id=\"node13\" class=\"node\">\n<title>12</title>\n<polygon fill=\"#c0c0c0\" stroke=\"black\" points=\"77,-36 23,-36 23,0 77,0 77,-36\"/>\n<text text-anchor=\"middle\" x=\"50\" y=\"-14.3\" font-family=\"Helvetica,sans-Serif\" font-size=\"14.00\">(...)</text>\n</g>\n<!-- 11&#45;&gt;12 -->\n<g id=\"edge12\" class=\"edge\">\n<title>11&#45;&gt;12</title>\n<path fill=\"none\" stroke=\"black\" d=\"M70.31,-71.76C66.96,-63.04 63.49,-54.04 60.39,-45.99\"/>\n<polygon fill=\"black\" stroke=\"black\" points=\"63.56,-44.48 56.7,-36.41 57.03,-46.99 63.56,-44.48\"/>\n</g>\n<!-- 41 -->\n<g id=\"node14\" class=\"node\">\n<title>41</title>\n<polygon fill=\"#c0c0c0\" stroke=\"black\" points=\"149,-36 95,-36 95,0 149,0 149,-36\"/>\n<text text-anchor=\"middle\" x=\"122\" y=\"-14.3\" font-family=\"Helvetica,sans-Serif\" font-size=\"14.00\">(...)</text>\n</g>\n<!-- 11&#45;&gt;41 -->\n<g id=\"edge13\" class=\"edge\">\n<title>11&#45;&gt;41</title>\n<path fill=\"none\" stroke=\"black\" d=\"M101.69,-71.76C105.04,-63.04 108.51,-54.04 111.61,-45.99\"/>\n<polygon fill=\"black\" stroke=\"black\" points=\"114.97,-46.99 115.3,-36.41 108.44,-44.48 114.97,-46.99\"/>\n</g>\n<!-- 49 -->\n<g id=\"node22\" class=\"node\">\n<title>49</title>\n<polygon fill=\"#e58139\" stroke=\"black\" points=\"941,-742.5 769,-742.5 769,-674.5 941,-674.5 941,-742.5\"/>\n<text text-anchor=\"middle\" x=\"855\" y=\"-727.3\" font-family=\"Helvetica,sans-Serif\" font-size=\"14.00\">gini = 0.0</text>\n<text text-anchor=\"middle\" x=\"855\" y=\"-712.3\" font-family=\"Helvetica,sans-Serif\" font-size=\"14.00\">samples = 18</text>\n<text text-anchor=\"middle\" x=\"855\" y=\"-697.3\" font-family=\"Helvetica,sans-Serif\" font-size=\"14.00\">value = [18, 0]</text>\n<text text-anchor=\"middle\" x=\"855\" y=\"-682.3\" font-family=\"Helvetica,sans-Serif\" font-size=\"14.00\">class = vital_status_alive</text>\n</g>\n<!-- 48&#45;&gt;49 -->\n<g id=\"edge21\" class=\"edge\">\n<title>48&#45;&gt;49</title>\n<path fill=\"none\" stroke=\"black\" d=\"M855,-785.91C855,-775.2 855,-763.62 855,-752.78\"/>\n<polygon fill=\"black\" stroke=\"black\" points=\"858.5,-752.67 855,-742.67 851.5,-752.67 858.5,-752.67\"/>\n</g>\n<!-- 50 -->\n<g id=\"node23\" class=\"node\">\n<title>50</title>\n<polygon fill=\"#6ab6ec\" stroke=\"black\" points=\"1135,-750 959,-750 959,-667 1135,-667 1135,-750\"/>\n<text text-anchor=\"middle\" x=\"1047\" y=\"-734.8\" font-family=\"Helvetica,sans-Serif\" font-size=\"14.00\">GPR150 &lt;= 0.506</text>\n<text text-anchor=\"middle\" x=\"1047\" y=\"-719.8\" font-family=\"Helvetica,sans-Serif\" font-size=\"14.00\">gini = 0.32</text>\n<text text-anchor=\"middle\" x=\"1047\" y=\"-704.8\" font-family=\"Helvetica,sans-Serif\" font-size=\"14.00\">samples = 10</text>\n<text text-anchor=\"middle\" x=\"1047\" y=\"-689.8\" font-family=\"Helvetica,sans-Serif\" font-size=\"14.00\">value = [2, 8]</text>\n<text text-anchor=\"middle\" x=\"1047\" y=\"-674.8\" font-family=\"Helvetica,sans-Serif\" font-size=\"14.00\">class = vital_status_dead</text>\n</g>\n<!-- 48&#45;&gt;50 -->\n<g id=\"edge22\" class=\"edge\">\n<title>48&#45;&gt;50</title>\n<path fill=\"none\" stroke=\"black\" d=\"M921.61,-785.91C937.85,-776.02 955.32,-765.37 971.92,-755.25\"/>\n<polygon fill=\"black\" stroke=\"black\" points=\"973.79,-758.21 980.5,-750.02 970.14,-752.24 973.79,-758.21\"/>\n</g>\n<!-- 51 -->\n<g id=\"node24\" class=\"node\">\n<title>51</title>\n<polygon fill=\"#399de5\" stroke=\"black\" points=\"1039,-623.5 863,-623.5 863,-555.5 1039,-555.5 1039,-623.5\"/>\n<text text-anchor=\"middle\" x=\"951\" y=\"-608.3\" font-family=\"Helvetica,sans-Serif\" font-size=\"14.00\">gini = 0.0</text>\n<text text-anchor=\"middle\" x=\"951\" y=\"-593.3\" font-family=\"Helvetica,sans-Serif\" font-size=\"14.00\">samples = 8</text>\n<text text-anchor=\"middle\" x=\"951\" y=\"-578.3\" font-family=\"Helvetica,sans-Serif\" font-size=\"14.00\">value = [0, 8]</text>\n<text text-anchor=\"middle\" x=\"951\" y=\"-563.3\" font-family=\"Helvetica,sans-Serif\" font-size=\"14.00\">class = vital_status_dead</text>\n</g>\n<!-- 50&#45;&gt;51 -->\n<g id=\"edge23\" class=\"edge\">\n<title>50&#45;&gt;51</title>\n<path fill=\"none\" stroke=\"black\" d=\"M1013.69,-666.91C1004.28,-655.43 994.03,-642.94 984.59,-631.44\"/>\n<polygon fill=\"black\" stroke=\"black\" points=\"987.26,-629.18 978.21,-623.67 981.85,-633.62 987.26,-629.18\"/>\n</g>\n<!-- 52 -->\n<g id=\"node25\" class=\"node\">\n<title>52</title>\n<polygon fill=\"#e58139\" stroke=\"black\" points=\"1229,-623.5 1057,-623.5 1057,-555.5 1229,-555.5 1229,-623.5\"/>\n<text text-anchor=\"middle\" x=\"1143\" y=\"-608.3\" font-family=\"Helvetica,sans-Serif\" font-size=\"14.00\">gini = 0.0</text>\n<text text-anchor=\"middle\" x=\"1143\" y=\"-593.3\" font-family=\"Helvetica,sans-Serif\" font-size=\"14.00\">samples = 2</text>\n<text text-anchor=\"middle\" x=\"1143\" y=\"-578.3\" font-family=\"Helvetica,sans-Serif\" font-size=\"14.00\">value = [2, 0]</text>\n<text text-anchor=\"middle\" x=\"1143\" y=\"-563.3\" font-family=\"Helvetica,sans-Serif\" font-size=\"14.00\">class = vital_status_alive</text>\n</g>\n<!-- 50&#45;&gt;52 -->\n<g id=\"edge24\" class=\"edge\">\n<title>50&#45;&gt;52</title>\n<path fill=\"none\" stroke=\"black\" d=\"M1080.31,-666.91C1089.72,-655.43 1099.97,-642.94 1109.41,-631.44\"/>\n<polygon fill=\"black\" stroke=\"black\" points=\"1112.15,-633.62 1115.79,-623.67 1106.74,-629.18 1112.15,-633.62\"/>\n</g>\n<!-- 54 -->\n<g id=\"node27\" class=\"node\">\n<title>54</title>\n<polygon fill=\"#399de5\" stroke=\"black\" points=\"1136,-861.5 960,-861.5 960,-793.5 1136,-793.5 1136,-861.5\"/>\n<text text-anchor=\"middle\" x=\"1048\" y=\"-846.3\" font-family=\"Helvetica,sans-Serif\" font-size=\"14.00\">gini = 0.0</text>\n<text text-anchor=\"middle\" x=\"1048\" y=\"-831.3\" font-family=\"Helvetica,sans-Serif\" font-size=\"14.00\">samples = 5</text>\n<text text-anchor=\"middle\" x=\"1048\" y=\"-816.3\" font-family=\"Helvetica,sans-Serif\" font-size=\"14.00\">value = [0, 5]</text>\n<text text-anchor=\"middle\" x=\"1048\" y=\"-801.3\" font-family=\"Helvetica,sans-Serif\" font-size=\"14.00\">class = vital_status_dead</text>\n</g>\n<!-- 53&#45;&gt;54 -->\n<g id=\"edge26\" class=\"edge\">\n<title>53&#45;&gt;54</title>\n<path fill=\"none\" stroke=\"black\" d=\"M1048,-904.91C1048,-894.2 1048,-882.62 1048,-871.78\"/>\n<polygon fill=\"black\" stroke=\"black\" points=\"1051.5,-871.67 1048,-861.67 1044.5,-871.67 1051.5,-871.67\"/>\n</g>\n<!-- 55 -->\n<g id=\"node28\" class=\"node\">\n<title>55</title>\n<polygon fill=\"#e58139\" stroke=\"black\" points=\"1326,-861.5 1154,-861.5 1154,-793.5 1326,-793.5 1326,-861.5\"/>\n<text text-anchor=\"middle\" x=\"1240\" y=\"-846.3\" font-family=\"Helvetica,sans-Serif\" font-size=\"14.00\">gini = 0.0</text>\n<text text-anchor=\"middle\" x=\"1240\" y=\"-831.3\" font-family=\"Helvetica,sans-Serif\" font-size=\"14.00\">samples = 2</text>\n<text text-anchor=\"middle\" x=\"1240\" y=\"-816.3\" font-family=\"Helvetica,sans-Serif\" font-size=\"14.00\">value = [2, 0]</text>\n<text text-anchor=\"middle\" x=\"1240\" y=\"-801.3\" font-family=\"Helvetica,sans-Serif\" font-size=\"14.00\">class = vital_status_alive</text>\n</g>\n<!-- 53&#45;&gt;55 -->\n<g id=\"edge27\" class=\"edge\">\n<title>53&#45;&gt;55</title>\n<path fill=\"none\" stroke=\"black\" d=\"M1114.61,-904.91C1134.8,-892.6 1156.91,-879.13 1176.87,-866.97\"/>\n<polygon fill=\"black\" stroke=\"black\" points=\"1178.85,-869.86 1185.57,-861.67 1175.21,-863.88 1178.85,-869.86\"/>\n</g>\n</g>\n</svg>\n",
      "text/plain": "<graphviz.sources.Source at 0x19e21d6d688>"
     },
     "execution_count": 15,
     "metadata": {},
     "output_type": "execute_result"
    }
   ],
   "source": [
    "# DOT data\n",
    "dot_data = tree.export_graphviz(clf, out_file=None,\n",
    "                                feature_names=features_names.to_numpy(),\n",
    "                                class_names=class_names.to_numpy(),\n",
    "                                filled=True,max_depth= 10)\n",
    "# Draw graph\n",
    "graph = graphviz.Source(dot_data, format = 'png')\n",
    "graph"
   ],
   "metadata": {
    "collapsed": false,
    "pycharm": {
     "name": "#%%\n"
    }
   }
  }
 ],
 "metadata": {
  "kernelspec": {
   "display_name": "Python 3 (ipykernel)",
   "language": "python",
   "name": "python3"
  },
  "language_info": {
   "codemirror_mode": {
    "name": "ipython",
    "version": 3
   },
   "file_extension": ".py",
   "mimetype": "text/x-python",
   "name": "python",
   "nbconvert_exporter": "python",
   "pygments_lexer": "ipython3",
   "version": "3.7.7"
  }
 },
 "nbformat": 4,
 "nbformat_minor": 1
}